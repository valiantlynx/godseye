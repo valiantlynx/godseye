{
 "cells": [
  {
   "cell_type": "code",
   "execution_count": null,
   "metadata": {},
   "outputs": [],
   "source": [
    "%pip install tensorflow mediapipe h5py scipy scikit-learn matplotlib numpy pandas protobuf tqdm datasets"
   ]
  },
  {
   "cell_type": "code",
   "execution_count": 21,
   "metadata": {},
   "outputs": [],
   "source": [
    "import os\n",
    "import json\n",
    "import numpy as np\n",
    "import logging\n",
    "import matplotlib.pyplot as plt\n",
    "from keras.layers import LSTM, Dense, Dropout\n",
    "from keras.models import Sequential\n",
    "from keras.callbacks import Callback\n",
    "from keras.optimizers import Adam\n",
    "from sklearn.model_selection import train_test_split\n",
    "from tqdm import tqdm\n",
    "import datetime as dt\n",
    "from tensorflow.keras.callbacks import EarlyStopping\n",
    "\n",
    "# Set up logging\n",
    "logging.basicConfig(level=logging.INFO)\n"
   ]
  },
  {
   "cell_type": "code",
   "execution_count": 8,
   "metadata": {},
   "outputs": [],
   "source": [
    "# Parameters\n",
    "root_dir = os.path.join(os.path.dirname(os.getcwd()), \"dataset_processing\", \"archive\", \"keypoints-rwf-2000\")\n",
    "no_of_timesteps = 20\n",
    "keypoint_labels = [\n",
    "    \"nose\", \"left_eye\", \"right_eye\", \"left_ear\", \"right_ear\",\n",
    "    \"left_shoulder\", \"right_shoulder\", \"left_elbow\", \"right_elbow\",\n",
    "    \"left_wrist\", \"right_wrist\", \"left_hip\", \"right_hip\",\n",
    "    \"left_knee\", \"right_knee\", \"left_ankle\", \"right_ankle\"\n",
    "]\n",
    "\n",
    "# Initialize dataset lists\n",
    "X = []\n",
    "y = []"
   ]
  },
  {
   "cell_type": "code",
   "execution_count": 9,
   "metadata": {},
   "outputs": [],
   "source": [
    "# Custom callback for live plotting\n",
    "class LivePlotCallback(Callback):\n",
    "    def on_train_begin(self, logs=None):\n",
    "        self.losses = []\n",
    "        self.accuracies = []\n",
    "        plt.ion()  # Enable interactive mode\n",
    "        self.fig, self.ax = plt.subplots(1, 2, figsize=(12, 5))\n",
    "        self.ax[0].set_title(\"Loss\")\n",
    "        self.ax[1].set_title(\"Accuracy\")\n",
    "\n",
    "    def on_epoch_end(self, epoch, logs=None):\n",
    "        self.losses.append(logs[\"loss\"])\n",
    "        self.accuracies.append(logs[\"accuracy\"])\n",
    "        \n",
    "        # Clear and update loss plot\n",
    "        self.ax[0].cla()\n",
    "        self.ax[0].plot(self.losses, label=\"Training Loss\", color=\"blue\")\n",
    "        self.ax[0].set_title(\"Loss\")\n",
    "        self.ax[0].legend()\n",
    "\n",
    "        # Clear and update accuracy plot\n",
    "        self.ax[1].cla()\n",
    "        self.ax[1].plot(self.accuracies, label=\"Training Accuracy\", color=\"green\")\n",
    "        self.ax[1].set_title(\"Accuracy\")\n",
    "        self.ax[1].legend()\n",
    "        \n",
    "        plt.pause(0.01)  # Small pause to update the plot\n",
    "        plt.draw()\n",
    "\n",
    "    def on_train_end(self, logs=None):\n",
    "        plt.ioff()\n",
    "        plt.show()"
   ]
  },
  {
   "cell_type": "code",
   "execution_count": 12,
   "metadata": {},
   "outputs": [],
   "source": [
    "def load_json_data(json_path, label):\n",
    "    try:\n",
    "        with open(json_path) as file:\n",
    "            data = json.load(file)\n",
    "            frames_data = []\n",
    "\n",
    "            if len(data) < no_of_timesteps:\n",
    "                logging.warning(f\"Skipping {json_path} as it has fewer than {no_of_timesteps} frames.\")\n",
    "                return None\n",
    "\n",
    "            for i in range(no_of_timesteps, len(data)):\n",
    "                sequence = []\n",
    "                frames = data[i - no_of_timesteps:i]\n",
    "\n",
    "                for frame in frames:\n",
    "                    if frame[\"detections\"]:\n",
    "                        person = frame[\"detections\"][0]\n",
    "                        person_keypoints = []\n",
    "                        \n",
    "                        keypoints_dict = {kp['label']: kp['coordinates'] for kp in person['keypoints']}\n",
    "                        \n",
    "                        for label in keypoint_labels:\n",
    "                            if label in keypoints_dict:\n",
    "                                coords = keypoints_dict[label]\n",
    "                                person_keypoints.extend([coords['x'], coords['y']])\n",
    "                            else:\n",
    "                                person_keypoints.extend([0.0, 0.0])\n",
    "                    else:\n",
    "                        person_keypoints = [0.0, 0.0] * len(keypoint_labels)\n",
    "                    \n",
    "                    sequence.append(person_keypoints)\n",
    "\n",
    "                frames_data.append(np.array(sequence))\n",
    "                \n",
    "            return frames_data\n",
    "\n",
    "    except Exception as e:\n",
    "        logging.error(f\"Error loading {json_path}: {e}\")\n",
    "        return None"
   ]
  },
  {
   "cell_type": "code",
   "execution_count": 13,
   "metadata": {},
   "outputs": [
    {
     "name": "stderr",
     "output_type": "stream",
     "text": [
      "INFO:root:Processing category 'Fight' in 'train' set...\n",
      "  0%|          | 0/789 [00:00<?, ?it/s]ERROR:root:Error loading c:\\Users\\gorme\\projects\\godseye\\apps\\backend\\dataset_processing\\archive\\keypoints-rwf-2000\\train\\Fight\\-1l5631l3fg_0\\-1l5631l3fg_0.json: 'detections'\n",
      "ERROR:root:Error loading c:\\Users\\gorme\\projects\\godseye\\apps\\backend\\dataset_processing\\archive\\keypoints-rwf-2000\\train\\Fight\\-1l5631l3fg_1\\-1l5631l3fg_1.json: 'detections'\n",
      "ERROR:root:Error loading c:\\Users\\gorme\\projects\\godseye\\apps\\backend\\dataset_processing\\archive\\keypoints-rwf-2000\\train\\Fight\\-1l5631l3fg_2\\-1l5631l3fg_2.json: 'detections'\n",
      "  1%|▏         | 11/789 [00:00<00:50, 15.32it/s]ERROR:root:Error loading c:\\Users\\gorme\\projects\\godseye\\apps\\backend\\dataset_processing\\archive\\keypoints-rwf-2000\\train\\Fight\\0NWz-01A2yk_0\\0NWz-01A2yk_0.json: 'detections'\n",
      "ERROR:root:Error loading c:\\Users\\gorme\\projects\\godseye\\apps\\backend\\dataset_processing\\archive\\keypoints-rwf-2000\\train\\Fight\\0NWz-01A2yk_1\\0NWz-01A2yk_1.json: 'detections'\n",
      "100%|██████████| 789/789 [00:44<00:00, 17.88it/s]\n",
      "INFO:root:Processing category 'NonFight' in 'train' set...\n",
      "100%|██████████| 802/802 [00:39<00:00, 20.21it/s]\n",
      "INFO:root:Processing category 'Fight' in 'val' set...\n",
      "100%|██████████| 200/200 [00:10<00:00, 19.90it/s]\n",
      "INFO:root:Processing category 'NonFight' in 'val' set...\n",
      "100%|██████████| 200/200 [00:07<00:00, 27.06it/s]\n"
     ]
    }
   ],
   "source": [
    "def process_dataset(root_dir):\n",
    "    global X, y\n",
    "    for category in ['train', 'val']:\n",
    "        for label in ['Fight', 'NonFight']:\n",
    "            category_dir = os.path.join(root_dir, category, label)\n",
    "            logging.info(f\"Processing category '{label}' in '{category}' set...\")\n",
    "\n",
    "            for video_folder in tqdm(os.listdir(category_dir)):\n",
    "                video_folder_path = os.path.join(category_dir, video_folder)\n",
    "\n",
    "                if os.path.isdir(video_folder_path):\n",
    "                    json_path = os.path.join(video_folder_path, f\"{video_folder}.json\")\n",
    "\n",
    "                    if os.path.isfile(json_path):\n",
    "                        sequences = load_json_data(json_path, label)\n",
    "\n",
    "                        if sequences:\n",
    "                            X.extend(sequences)\n",
    "                            y.extend([1 if label == 'Fight' else 0] * len(sequences))\n",
    "\n",
    "\n",
    "# Load and process dataset\n",
    "process_dataset(root_dir)"
   ]
  },
  {
   "cell_type": "code",
   "execution_count": 14,
   "metadata": {},
   "outputs": [
    {
     "name": "stdout",
     "output_type": "stream",
     "text": [
      "Dataset shapes:\n",
      "X shape: (258180, 20, 34)\n",
      "y shape: (258180,)\n"
     ]
    }
   ],
   "source": [
    "# Convert to numpy arrays with correct shape\n",
    "X = np.array(X, dtype=np.float32)\n",
    "y = np.array(y, dtype=np.int32)\n",
    "\n",
    "\n",
    "print(\"Dataset shapes:\")\n",
    "print(f\"X shape: {X.shape}\")\n",
    "print(f\"y shape: {y.shape}\")\n",
    "\n",
    "if len(X) == 0:\n",
    "    raise ValueError(\"No data was loaded. Check the dataset directory and file paths.\")\n",
    "\n",
    "# Normalize the coordinates\n",
    "mean = np.mean(X.reshape(-1, X.shape[-1]), axis=0)\n",
    "std = np.std(X.reshape(-1, X.shape[-1]), axis=0)\n",
    "std = np.where(std == 0, 1, std)\n",
    "X = (X - mean) / std\n"
   ]
  },
  {
   "cell_type": "code",
   "execution_count": 15,
   "metadata": {},
   "outputs": [
    {
     "data": {
      "text/plain": [
       "array([[[ 0.7377947 ,  3.7373996 ,  0.90387803, ..., -0.8022287 ,\n",
       "         -0.71034604, -0.80733055],\n",
       "        [ 3.7173114 ,  2.571439  ,  4.1111116 , ...,  2.1113803 ,\n",
       "          3.0929332 ,  2.1765988 ],\n",
       "        [ 3.7132738 ,  2.5828419 ,  4.106408  , ...,  2.0971596 ,\n",
       "          3.084887  ,  2.1570203 ],\n",
       "        ...,\n",
       "        [ 0.6534977 ,  3.2865915 ,  0.8184054 , ...,  2.6056902 ,\n",
       "          0.62457   ,  2.7528641 ],\n",
       "        [ 0.6318349 ,  3.1782212 ,  0.7891128 , ...,  2.5791857 ,\n",
       "          0.61671764,  2.7003205 ],\n",
       "        [ 0.620937  ,  3.1010623 ,  0.77390504, ...,  2.5156856 ,\n",
       "          0.6301253 ,  2.6218522 ]],\n",
       "\n",
       "       [[ 3.7173114 ,  2.571439  ,  4.1111116 , ...,  2.1113803 ,\n",
       "          3.0929332 ,  2.1765988 ],\n",
       "        [ 3.7132738 ,  2.5828419 ,  4.106408  , ...,  2.0971596 ,\n",
       "          3.084887  ,  2.1570203 ],\n",
       "        [ 0.7288364 ,  3.7744353 ,  0.8916555 , ..., -0.8022287 ,\n",
       "         -0.71034604, -0.80733055],\n",
       "        ...,\n",
       "        [ 0.6318349 ,  3.1782212 ,  0.7891128 , ...,  2.5791857 ,\n",
       "          0.61671764,  2.7003205 ],\n",
       "        [ 0.620937  ,  3.1010623 ,  0.77390504, ...,  2.5156856 ,\n",
       "          0.6301253 ,  2.6218522 ],\n",
       "        [ 0.6118814 ,  3.097597  ,  0.7638079 , ...,  2.4914575 ,\n",
       "          0.63618237,  2.5896258 ]],\n",
       "\n",
       "       [[ 3.7132738 ,  2.5828419 ,  4.106408  , ...,  2.0971596 ,\n",
       "          3.084887  ,  2.1570203 ],\n",
       "        [ 0.7288364 ,  3.7744353 ,  0.8916555 , ..., -0.8022287 ,\n",
       "         -0.71034604, -0.80733055],\n",
       "        [ 0.73126316,  3.7837508 ,  0.8914355 , ..., -0.8022287 ,\n",
       "         -0.71034604, -0.80733055],\n",
       "        ...,\n",
       "        [ 0.620937  ,  3.1010623 ,  0.77390504, ...,  2.5156856 ,\n",
       "          0.6301253 ,  2.6218522 ],\n",
       "        [ 0.6118814 ,  3.097597  ,  0.7638079 , ...,  2.4914575 ,\n",
       "          0.63618237,  2.5896258 ],\n",
       "        [ 0.5865453 ,  3.0238256 ,  0.73409694, ...,  2.4808648 ,\n",
       "          0.63959754,  2.5034683 ]],\n",
       "\n",
       "       ...,\n",
       "\n",
       "       [[-0.5653904 , -0.5994372 , -0.4950749 , ..., -0.8022287 ,\n",
       "         -0.71034604, -0.80733055],\n",
       "        [-0.5653904 , -0.5994372 , -0.4950749 , ..., -0.8022287 ,\n",
       "         -0.71034604, -0.80733055],\n",
       "        [-0.5653904 , -0.5994372 , -0.4950749 , ..., -0.8022287 ,\n",
       "         -0.71034604, -0.80733055],\n",
       "        ...,\n",
       "        [-0.5653904 , -0.5994372 , -0.4950749 , ..., -0.8022287 ,\n",
       "         -0.71034604, -0.80733055],\n",
       "        [-0.5653904 , -0.5994372 , -0.4950749 , ..., -0.8022287 ,\n",
       "         -0.71034604, -0.80733055],\n",
       "        [-0.5653904 , -0.5994372 , -0.4950749 , ..., -0.8022287 ,\n",
       "         -0.71034604, -0.80733055]],\n",
       "\n",
       "       [[-0.5653904 , -0.5994372 , -0.4950749 , ..., -0.8022287 ,\n",
       "         -0.71034604, -0.80733055],\n",
       "        [-0.5653904 , -0.5994372 , -0.4950749 , ..., -0.8022287 ,\n",
       "         -0.71034604, -0.80733055],\n",
       "        [-0.5653904 , -0.5994372 , -0.4950749 , ..., -0.8022287 ,\n",
       "         -0.71034604, -0.80733055],\n",
       "        ...,\n",
       "        [-0.5653904 , -0.5994372 , -0.4950749 , ..., -0.8022287 ,\n",
       "         -0.71034604, -0.80733055],\n",
       "        [-0.5653904 , -0.5994372 , -0.4950749 , ..., -0.8022287 ,\n",
       "         -0.71034604, -0.80733055],\n",
       "        [-0.5653904 , -0.5994372 , -0.4950749 , ..., -0.8022287 ,\n",
       "         -0.71034604, -0.80733055]],\n",
       "\n",
       "       [[-0.5653904 , -0.5994372 , -0.4950749 , ..., -0.8022287 ,\n",
       "         -0.71034604, -0.80733055],\n",
       "        [-0.5653904 , -0.5994372 , -0.4950749 , ..., -0.8022287 ,\n",
       "         -0.71034604, -0.80733055],\n",
       "        [-0.5653904 , -0.5994372 , -0.4950749 , ..., -0.8022287 ,\n",
       "         -0.71034604, -0.80733055],\n",
       "        ...,\n",
       "        [-0.5653904 , -0.5994372 , -0.4950749 , ..., -0.8022287 ,\n",
       "         -0.71034604, -0.80733055],\n",
       "        [-0.5653904 , -0.5994372 , -0.4950749 , ..., -0.8022287 ,\n",
       "         -0.71034604, -0.80733055],\n",
       "        [-0.5653904 , -0.5994372 , -0.4950749 , ..., -0.8022287 ,\n",
       "         -0.71034604, -0.80733055]]], dtype=float32)"
      ]
     },
     "execution_count": 15,
     "metadata": {},
     "output_type": "execute_result"
    }
   ],
   "source": [
    "X"
   ]
  },
  {
   "cell_type": "code",
   "execution_count": 16,
   "metadata": {},
   "outputs": [
    {
     "data": {
      "text/plain": [
       "array([1, 1, 1, ..., 0, 0, 0])"
      ]
     },
     "execution_count": 16,
     "metadata": {},
     "output_type": "execute_result"
    }
   ],
   "source": [
    "y"
   ]
  },
  {
   "cell_type": "code",
   "execution_count": 17,
   "metadata": {},
   "outputs": [
    {
     "name": "stdout",
     "output_type": "stream",
     "text": [
      "\n",
      "Training set shapes:\n",
      "X_train shape: (206544, 20, 34)\n",
      "y_train shape: (206544,)\n"
     ]
    }
   ],
   "source": [
    "# Perform train/test split\n",
    "X_train, X_test, y_train, y_test = train_test_split(X, y, test_size=0.2, random_state=42)\n",
    "\n",
    "print(\"\\nTraining set shapes:\")\n",
    "print(f\"X_train shape: {X_train.shape}\")\n",
    "print(f\"y_train shape: {y_train.shape}\")"
   ]
  },
  {
   "cell_type": "code",
   "execution_count": 22,
   "metadata": {},
   "outputs": [
    {
     "data": {
      "text/html": [
       "<pre style=\"white-space:pre;overflow-x:auto;line-height:normal;font-family:Menlo,'DejaVu Sans Mono',consolas,'Courier New',monospace\"><span style=\"font-weight: bold\">Model: \"sequential_3\"</span>\n",
       "</pre>\n"
      ],
      "text/plain": [
       "\u001b[1mModel: \"sequential_3\"\u001b[0m\n"
      ]
     },
     "metadata": {},
     "output_type": "display_data"
    },
    {
     "data": {
      "text/html": [
       "<pre style=\"white-space:pre;overflow-x:auto;line-height:normal;font-family:Menlo,'DejaVu Sans Mono',consolas,'Courier New',monospace\">┏━━━━━━━━━━━━━━━━━━━━━━━━━━━━━━━━━┳━━━━━━━━━━━━━━━━━━━━━━━━┳━━━━━━━━━━━━━━━┓\n",
       "┃<span style=\"font-weight: bold\"> Layer (type)                    </span>┃<span style=\"font-weight: bold\"> Output Shape           </span>┃<span style=\"font-weight: bold\">       Param # </span>┃\n",
       "┡━━━━━━━━━━━━━━━━━━━━━━━━━━━━━━━━━╇━━━━━━━━━━━━━━━━━━━━━━━━╇━━━━━━━━━━━━━━━┩\n",
       "│ lstm_12 (<span style=\"color: #0087ff; text-decoration-color: #0087ff\">LSTM</span>)                  │ (<span style=\"color: #00d7ff; text-decoration-color: #00d7ff\">None</span>, <span style=\"color: #00af00; text-decoration-color: #00af00\">20</span>, <span style=\"color: #00af00; text-decoration-color: #00af00\">128</span>)        │        <span style=\"color: #00af00; text-decoration-color: #00af00\">83,456</span> │\n",
       "├─────────────────────────────────┼────────────────────────┼───────────────┤\n",
       "│ dropout_13 (<span style=\"color: #0087ff; text-decoration-color: #0087ff\">Dropout</span>)            │ (<span style=\"color: #00d7ff; text-decoration-color: #00d7ff\">None</span>, <span style=\"color: #00af00; text-decoration-color: #00af00\">20</span>, <span style=\"color: #00af00; text-decoration-color: #00af00\">128</span>)        │             <span style=\"color: #00af00; text-decoration-color: #00af00\">0</span> │\n",
       "├─────────────────────────────────┼────────────────────────┼───────────────┤\n",
       "│ lstm_13 (<span style=\"color: #0087ff; text-decoration-color: #0087ff\">LSTM</span>)                  │ (<span style=\"color: #00d7ff; text-decoration-color: #00d7ff\">None</span>, <span style=\"color: #00af00; text-decoration-color: #00af00\">20</span>, <span style=\"color: #00af00; text-decoration-color: #00af00\">64</span>)         │        <span style=\"color: #00af00; text-decoration-color: #00af00\">49,408</span> │\n",
       "├─────────────────────────────────┼────────────────────────┼───────────────┤\n",
       "│ dropout_14 (<span style=\"color: #0087ff; text-decoration-color: #0087ff\">Dropout</span>)            │ (<span style=\"color: #00d7ff; text-decoration-color: #00d7ff\">None</span>, <span style=\"color: #00af00; text-decoration-color: #00af00\">20</span>, <span style=\"color: #00af00; text-decoration-color: #00af00\">64</span>)         │             <span style=\"color: #00af00; text-decoration-color: #00af00\">0</span> │\n",
       "├─────────────────────────────────┼────────────────────────┼───────────────┤\n",
       "│ lstm_14 (<span style=\"color: #0087ff; text-decoration-color: #0087ff\">LSTM</span>)                  │ (<span style=\"color: #00d7ff; text-decoration-color: #00d7ff\">None</span>, <span style=\"color: #00af00; text-decoration-color: #00af00\">32</span>)             │        <span style=\"color: #00af00; text-decoration-color: #00af00\">12,416</span> │\n",
       "├─────────────────────────────────┼────────────────────────┼───────────────┤\n",
       "│ dropout_15 (<span style=\"color: #0087ff; text-decoration-color: #0087ff\">Dropout</span>)            │ (<span style=\"color: #00d7ff; text-decoration-color: #00d7ff\">None</span>, <span style=\"color: #00af00; text-decoration-color: #00af00\">32</span>)             │             <span style=\"color: #00af00; text-decoration-color: #00af00\">0</span> │\n",
       "├─────────────────────────────────┼────────────────────────┼───────────────┤\n",
       "│ dense_3 (<span style=\"color: #0087ff; text-decoration-color: #0087ff\">Dense</span>)                 │ (<span style=\"color: #00d7ff; text-decoration-color: #00d7ff\">None</span>, <span style=\"color: #00af00; text-decoration-color: #00af00\">1</span>)              │            <span style=\"color: #00af00; text-decoration-color: #00af00\">33</span> │\n",
       "└─────────────────────────────────┴────────────────────────┴───────────────┘\n",
       "</pre>\n"
      ],
      "text/plain": [
       "┏━━━━━━━━━━━━━━━━━━━━━━━━━━━━━━━━━┳━━━━━━━━━━━━━━━━━━━━━━━━┳━━━━━━━━━━━━━━━┓\n",
       "┃\u001b[1m \u001b[0m\u001b[1mLayer (type)                   \u001b[0m\u001b[1m \u001b[0m┃\u001b[1m \u001b[0m\u001b[1mOutput Shape          \u001b[0m\u001b[1m \u001b[0m┃\u001b[1m \u001b[0m\u001b[1m      Param #\u001b[0m\u001b[1m \u001b[0m┃\n",
       "┡━━━━━━━━━━━━━━━━━━━━━━━━━━━━━━━━━╇━━━━━━━━━━━━━━━━━━━━━━━━╇━━━━━━━━━━━━━━━┩\n",
       "│ lstm_12 (\u001b[38;5;33mLSTM\u001b[0m)                  │ (\u001b[38;5;45mNone\u001b[0m, \u001b[38;5;34m20\u001b[0m, \u001b[38;5;34m128\u001b[0m)        │        \u001b[38;5;34m83,456\u001b[0m │\n",
       "├─────────────────────────────────┼────────────────────────┼───────────────┤\n",
       "│ dropout_13 (\u001b[38;5;33mDropout\u001b[0m)            │ (\u001b[38;5;45mNone\u001b[0m, \u001b[38;5;34m20\u001b[0m, \u001b[38;5;34m128\u001b[0m)        │             \u001b[38;5;34m0\u001b[0m │\n",
       "├─────────────────────────────────┼────────────────────────┼───────────────┤\n",
       "│ lstm_13 (\u001b[38;5;33mLSTM\u001b[0m)                  │ (\u001b[38;5;45mNone\u001b[0m, \u001b[38;5;34m20\u001b[0m, \u001b[38;5;34m64\u001b[0m)         │        \u001b[38;5;34m49,408\u001b[0m │\n",
       "├─────────────────────────────────┼────────────────────────┼───────────────┤\n",
       "│ dropout_14 (\u001b[38;5;33mDropout\u001b[0m)            │ (\u001b[38;5;45mNone\u001b[0m, \u001b[38;5;34m20\u001b[0m, \u001b[38;5;34m64\u001b[0m)         │             \u001b[38;5;34m0\u001b[0m │\n",
       "├─────────────────────────────────┼────────────────────────┼───────────────┤\n",
       "│ lstm_14 (\u001b[38;5;33mLSTM\u001b[0m)                  │ (\u001b[38;5;45mNone\u001b[0m, \u001b[38;5;34m32\u001b[0m)             │        \u001b[38;5;34m12,416\u001b[0m │\n",
       "├─────────────────────────────────┼────────────────────────┼───────────────┤\n",
       "│ dropout_15 (\u001b[38;5;33mDropout\u001b[0m)            │ (\u001b[38;5;45mNone\u001b[0m, \u001b[38;5;34m32\u001b[0m)             │             \u001b[38;5;34m0\u001b[0m │\n",
       "├─────────────────────────────────┼────────────────────────┼───────────────┤\n",
       "│ dense_3 (\u001b[38;5;33mDense\u001b[0m)                 │ (\u001b[38;5;45mNone\u001b[0m, \u001b[38;5;34m1\u001b[0m)              │            \u001b[38;5;34m33\u001b[0m │\n",
       "└─────────────────────────────────┴────────────────────────┴───────────────┘\n"
      ]
     },
     "metadata": {},
     "output_type": "display_data"
    },
    {
     "data": {
      "text/html": [
       "<pre style=\"white-space:pre;overflow-x:auto;line-height:normal;font-family:Menlo,'DejaVu Sans Mono',consolas,'Courier New',monospace\"><span style=\"font-weight: bold\"> Total params: </span><span style=\"color: #00af00; text-decoration-color: #00af00\">145,313</span> (567.63 KB)\n",
       "</pre>\n"
      ],
      "text/plain": [
       "\u001b[1m Total params: \u001b[0m\u001b[38;5;34m145,313\u001b[0m (567.63 KB)\n"
      ]
     },
     "metadata": {},
     "output_type": "display_data"
    },
    {
     "data": {
      "text/html": [
       "<pre style=\"white-space:pre;overflow-x:auto;line-height:normal;font-family:Menlo,'DejaVu Sans Mono',consolas,'Courier New',monospace\"><span style=\"font-weight: bold\"> Trainable params: </span><span style=\"color: #00af00; text-decoration-color: #00af00\">145,313</span> (567.63 KB)\n",
       "</pre>\n"
      ],
      "text/plain": [
       "\u001b[1m Trainable params: \u001b[0m\u001b[38;5;34m145,313\u001b[0m (567.63 KB)\n"
      ]
     },
     "metadata": {},
     "output_type": "display_data"
    },
    {
     "data": {
      "text/html": [
       "<pre style=\"white-space:pre;overflow-x:auto;line-height:normal;font-family:Menlo,'DejaVu Sans Mono',consolas,'Courier New',monospace\"><span style=\"font-weight: bold\"> Non-trainable params: </span><span style=\"color: #00af00; text-decoration-color: #00af00\">0</span> (0.00 B)\n",
       "</pre>\n"
      ],
      "text/plain": [
       "\u001b[1m Non-trainable params: \u001b[0m\u001b[38;5;34m0\u001b[0m (0.00 B)\n"
      ]
     },
     "metadata": {},
     "output_type": "display_data"
    },
    {
     "name": "stdout",
     "output_type": "stream",
     "text": [
      "None\n"
     ]
    }
   ],
   "source": [
    "# Model Definition\n",
    "model = Sequential([\n",
    "    LSTM(128, input_shape=(20, 34), return_sequences=True),  # Input shape matches X_train\n",
    "    Dropout(0.3),\n",
    "    LSTM(64, return_sequences=True),\n",
    "    Dropout(0.3),\n",
    "    LSTM(32, return_sequences=False),\n",
    "    Dropout(0.3),\n",
    "    Dense(1, activation='sigmoid')  # Binary output\n",
    "])\n",
    "\n",
    "# Compile Model\n",
    "model.compile(optimizer=Adam(learning_rate=0.001), loss='binary_crossentropy', metrics=['accuracy'])\n",
    "\n",
    "print(model.summary())"
   ]
  },
  {
   "cell_type": "code",
   "execution_count": 25,
   "metadata": {},
   "outputs": [
    {
     "name": "stdout",
     "output_type": "stream",
     "text": [
      "Epoch 1/60\n",
      "\u001b[1m6455/6455\u001b[0m \u001b[32m━━━━━━━━━━━━━━━━━━━━\u001b[0m\u001b[37m\u001b[0m \u001b[1m187s\u001b[0m 29ms/step - accuracy: 0.8727 - loss: 0.3037 - val_accuracy: 0.8951 - val_loss: 0.2490\n",
      "Epoch 2/60\n",
      "\u001b[1m6455/6455\u001b[0m \u001b[32m━━━━━━━━━━━━━━━━━━━━\u001b[0m\u001b[37m\u001b[0m \u001b[1m210s\u001b[0m 33ms/step - accuracy: 0.9014 - loss: 0.2420 - val_accuracy: 0.9169 - val_loss: 0.2080\n",
      "Epoch 3/60\n",
      "\u001b[1m6455/6455\u001b[0m \u001b[32m━━━━━━━━━━━━━━━━━━━━\u001b[0m\u001b[37m\u001b[0m \u001b[1m227s\u001b[0m 35ms/step - accuracy: 0.9195 - loss: 0.2029 - val_accuracy: 0.9265 - val_loss: 0.1852\n",
      "Epoch 4/60\n",
      "\u001b[1m6455/6455\u001b[0m \u001b[32m━━━━━━━━━━━━━━━━━━━━\u001b[0m\u001b[37m\u001b[0m \u001b[1m209s\u001b[0m 32ms/step - accuracy: 0.9307 - loss: 0.1781 - val_accuracy: 0.9330 - val_loss: 0.1721\n",
      "Epoch 5/60\n",
      "\u001b[1m1810/6455\u001b[0m \u001b[32m━━━━━\u001b[0m\u001b[37m━━━━━━━━━━━━━━━\u001b[0m \u001b[1m3:19\u001b[0m 43ms/step - accuracy: 0.9381 - loss: 0.1596"
     ]
    }
   ],
   "source": [
    "early_stopping_callback = EarlyStopping(monitor = 'val_loss', patience = 10, mode = 'min', restore_best_weights = True)\n",
    "\n",
    "epochs=60\n",
    "# Train the model with the LivePlotCallback\n",
    "history = model.fit(X_train, y_train, epochs=epochs, batch_size=32, validation_data=(X_test, y_test), callbacks = [early_stopping_callback])\n",
    "\n",
    "\n",
    "model_evaluation_history = model.evaluate(X_test, y_test)\n",
    "\n",
    "model_evaluation_loss, model_evaluation_accuracy = model_evaluation_history\n",
    "\n",
    "date_time_format = '%Y_%m_%d__%H_%M_%S'\n",
    "current_date_time_dt = dt.datetime.now()\n",
    "current_date_time_string = dt.datetime.strftime(current_date_time_dt, date_time_format)\n",
    "\n",
    "model_file_name = f'skeletonViolenceLSTM_model___Date_Time_{current_date_time_string}___Loss_{model_evaluation_loss}___Accuracy_{model_evaluation_accuracy}__Epochs_{epochs}.h5'\n",
    "model_path = os.path.join('models', model_file_name)\n",
    "\n",
    "model.save(model_path) #! Important"
   ]
  }
 ],
 "metadata": {
  "kernelspec": {
   "display_name": ".venv",
   "language": "python",
   "name": "python3"
  },
  "language_info": {
   "codemirror_mode": {
    "name": "ipython",
    "version": 3
   },
   "file_extension": ".py",
   "mimetype": "text/x-python",
   "name": "python",
   "nbconvert_exporter": "python",
   "pygments_lexer": "ipython3",
   "version": "3.10.11"
  }
 },
 "nbformat": 4,
 "nbformat_minor": 2
}
